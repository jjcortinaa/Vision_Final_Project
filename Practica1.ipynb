{
 "cells": [
  {
   "cell_type": "markdown",
   "metadata": {},
   "source": [
    "# **Sesión 1:** Calibración de Cámara 📷⚙️"
   ]
  },
  {
   "cell_type": "markdown",
   "metadata": {},
   "source": [
    "## **Instalaciones**"
   ]
  },
  {
   "cell_type": "code",
   "execution_count": 179,
   "metadata": {},
   "outputs": [
    {
     "name": "stdout",
     "output_type": "stream",
     "text": [
      "Requirement already satisfied: imageio in c:\\instalaciones\\anaconda\\lib\\site-packages (2.33.1)\n",
      "Requirement already satisfied: opencv-python in c:\\instalaciones\\anaconda\\lib\\site-packages (4.8.0.76)\n",
      "Requirement already satisfied: numpy in c:\\instalaciones\\anaconda\\lib\\site-packages (from imageio) (1.26.0)\n",
      "Requirement already satisfied: pillow>=8.3.2 in c:\\instalaciones\\anaconda\\lib\\site-packages (from imageio) (10.2.0)\n"
     ]
    }
   ],
   "source": [
    "!pip install imageio opencv-python"
   ]
  },
  {
   "cell_type": "markdown",
   "metadata": {},
   "source": [
    "## **Librerías**"
   ]
  },
  {
   "cell_type": "code",
   "execution_count": 180,
   "metadata": {},
   "outputs": [],
   "source": [
    "from typing import List\n",
    "import numpy as np\n",
    "import imageio\n",
    "import cv2\n",
    "import copy\n",
    "import glob\n",
    "import os\n",
    "from os.path import dirname, join"
   ]
  },
  {
   "cell_type": "markdown",
   "metadata": {},
   "source": [
    "## **Apartado A: Calibración de cámara** (derecha e izquierda)"
   ]
  },
  {
   "cell_type": "markdown",
   "metadata": {},
   "source": [
    "En este apartado se realiza la calibración de dos cámaras de un sistema estereoscópico. Para ello se trabajará con las imágenes de las carpetas ``left`` y ``right``. En primer lugar se trabajará con la carpeta ``left``. Posteriormente, deberá repetir el proceso con las imágenes en la carpeta ``right``. Ambas carpetas contienen imágenes con las que se calibrarán las cámaras. En ellas aparece el patrón de calibración en diferentes posiciones y orientaciones. Estas imágenes serán los datos de entrada.\n",
    "\n",
    "Los pasos que deberá seguir para calibrar una cámara son:\n",
    "\n",
    "1. Defina y ejecute el método para cargar imágenes ``load_images()``.\n",
    "2. Detecte las esquinas de los patrones usando ``cv2.findChessboardCorners()``. Refine las detecciones con ``cv2.cornerSubPix()``.\n",
    "3. Compruebe que las detecciones son correctas dibujando los resultados con ``cv2.drawChessboardCorners()``.\n",
    "4. Defina y ejecute el método ``get_chessboard_points(chessboard_shape, dx, dy)`` que proporcione las coordenadas 3D de las esquinas del patrón. El sistema de referencia utilizado deberá estar anclado al propio patrón.\n",
    "5. Utilice ``cv2.calibrateCamera`` para obtener los parámetros de calibración para la cámara izquierda."
   ]
  },
  {
   "cell_type": "markdown",
   "metadata": {},
   "source": [
    "### **Tarea A.1:** Defina y ejecute el método para cargar imágenes ``load_images()``."
   ]
  },
  {
   "cell_type": "code",
   "execution_count": 181,
   "metadata": {},
   "outputs": [],
   "source": [
    "def load_images(filenames: List) -> List:\n",
    "    return [imageio.imread(filename) for filename in filenames]"
   ]
  },
  {
   "cell_type": "code",
   "execution_count": 182,
   "metadata": {},
   "outputs": [
    {
     "name": "stderr",
     "output_type": "stream",
     "text": [
      "C:\\Users\\Jose Juan\\AppData\\Local\\Temp\\ipykernel_14840\\283608422.py:2: DeprecationWarning: Starting with ImageIO v3 the behavior of this function will switch to that of iio.v3.imread. To keep the current behavior (and make this warning disappear) use `import imageio.v2 as imageio` or call `imageio.v2.imread` directly.\n",
      "  return [imageio.imread(filename) for filename in filenames]\n"
     ]
    }
   ],
   "source": [
    "# TODO Build a list containing the paths of all images from the left camera\n",
    "path = join(dirname(os.getcwd()), \"data\", \"left\")\n",
    "imgs_path = [join(path, f\"{img_path}\") for img_path in os.listdir(path)]\n",
    "imgs = load_images(imgs_path)\n"
   ]
  },
  {
   "cell_type": "markdown",
   "metadata": {},
   "source": [
    "### **Tarea A.2:** Detecte las esquinas de los patrones usando ``cv2.findChessboardCorners()``. Refine las detecciones con ``cv2.cornerSubPix()``."
   ]
  },
  {
   "cell_type": "code",
   "execution_count": 183,
   "metadata": {},
   "outputs": [],
   "source": [
    "# TODO Find corners with cv2.findChessboardCorners()\n",
    "corners = [cv2.findChessboardCorners(img,(8,6),None) for img in imgs]\n",
    "\n"
   ]
  },
  {
   "cell_type": "code",
   "execution_count": 184,
   "metadata": {},
   "outputs": [],
   "source": [
    "corners_copy = copy.deepcopy(corners)\n",
    "criteria = (cv2.TERM_CRITERIA_EPS + cv2.TERM_CRITERIA_MAX_ITER, 30, 0.01)\n",
    "\n",
    "# TODO To refine corner detections with cv2.cornerSubPix() you need to input grayscale images. Build a list containing grayscale images.\n",
    "imgs_gray = [cv2.cvtColor(img,cv2.COLOR_BGR2GRAY) for img in imgs]\n",
    "\n",
    "corners_refined = [cv2.cornerSubPix(i, cor[1], (8,6), (-1, -1), criteria) if cor[0] else [] for i, cor in zip(imgs_gray, corners_copy)]\n"
   ]
  },
  {
   "cell_type": "markdown",
   "metadata": {},
   "source": [
    "### **Tarea A.3:** Compruebe que las detecciones son correctas dibujando los resultados con ``cv2.drawChessboardCorners()``"
   ]
  },
  {
   "cell_type": "code",
   "execution_count": 185,
   "metadata": {},
   "outputs": [],
   "source": [
    "imgs_copy = copy.deepcopy(imgs)\n"
   ]
  },
  {
   "cell_type": "code",
   "execution_count": 186,
   "metadata": {},
   "outputs": [],
   "source": [
    "# TODO Use cv2.drawChessboardCorners() to draw the cornes\n",
    "\n",
    "\n",
    "for index, (img, corner) in enumerate(zip(imgs_copy, corners)):\n",
    "    if corner[0]:\n",
    "        cv2.drawChessboardCorners(img, (8, 6), corner[1], corner[0])\n",
    "        cv2.imshow(f'Imagen {index} con esquinas', img)\n",
    "        cv2.waitKey(500)\n",
    "        cv2.destroyAllWindows()\n"
   ]
  },
  {
   "cell_type": "code",
   "execution_count": 187,
   "metadata": {},
   "outputs": [],
   "source": [
    "# TODO Show images and save when needed\n",
    "def show_image(img):\n",
    "    cv2.imshow('Esquinas del tablero de ajedrez', img)\n",
    "    cv2.waitKey(500)\n",
    "    cv2.destroyAllWindows()\n",
    "    \n",
    "def write_image(path_name,img):\n",
    "    cv2.imwrite(path_name,img)"
   ]
  },
  {
   "cell_type": "markdown",
   "metadata": {},
   "source": [
    "### **Tarea A.4:** Defina y ejecute el método ``get_chessboard_points(chessboard_shape, dx, dy)``"
   ]
  },
  {
   "cell_type": "code",
   "execution_count": 188,
   "metadata": {},
   "outputs": [],
   "source": [
    "# TODO Design the method. It should return a np.array with np.float32 elements\n",
    "def get_chessboard_points(chessboard_shape, dx, dy):\n",
    "    # rows, cols = chessboard_shape\n",
    "    # points = np.zeros((rows*cols,1,3),dtype=np.float32)\n",
    "    points = []\n",
    "    for y in range(chessboard_shape[1]):\n",
    "        for x in range(chessboard_shape[0]):\n",
    "            # points[i*cols+j] = [j*dx,i*dy,0]\n",
    "            points.append([x*dx,y*dy,0])\n",
    "    return np.array(points,np.float32)"
   ]
  },
  {
   "cell_type": "code",
   "execution_count": 189,
   "metadata": {},
   "outputs": [],
   "source": [
    "# TODO You need the points for every image, not just one\n",
    "chessboard_points = [get_chessboard_points((8,6), 30, 30) for corner in corners_copy if corner[0]]\n"
   ]
  },
  {
   "cell_type": "markdown",
   "metadata": {},
   "source": [
    "### **Tarea A.5:** Utilice ``cv2.calibrateCamera()`` para obtener los parámetros de calibración para la cámara izquierda"
   ]
  },
  {
   "cell_type": "code",
   "execution_count": 190,
   "metadata": {},
   "outputs": [
    {
     "data": {
      "text/plain": [
       "array([[[[109.30218 ,  95.86501 ]],\n",
       "\n",
       "        [[127.99929 ,  92.694275]],\n",
       "\n",
       "        [[145.53981 ,  89.815926]],\n",
       "\n",
       "        ...,\n",
       "\n",
       "        [[264.27164 , 151.87358 ]],\n",
       "\n",
       "        [[276.088   , 147.14775 ]],\n",
       "\n",
       "        [[286.78433 , 142.63692 ]]],\n",
       "\n",
       "\n",
       "       [[[ 99.372826,  82.31722 ]],\n",
       "\n",
       "        [[118.92655 ,  79.29171 ]],\n",
       "\n",
       "        [[137.18936 ,  76.48056 ]],\n",
       "\n",
       "        ...,\n",
       "\n",
       "        [[256.23175 , 142.26001 ]],\n",
       "\n",
       "        [[268.73672 , 137.48973 ]],\n",
       "\n",
       "        [[280.286   , 133.06755 ]]],\n",
       "\n",
       "\n",
       "       [[[104.343796,  72.64956 ]],\n",
       "\n",
       "        [[124.20265 ,  69.762726]],\n",
       "\n",
       "        [[142.77943 ,  67.233864]],\n",
       "\n",
       "        ...,\n",
       "\n",
       "        [[261.28613 , 135.39984 ]],\n",
       "\n",
       "        [[274.33163 , 130.7014  ]],\n",
       "\n",
       "        [[286.38782 , 126.413185]]],\n",
       "\n",
       "\n",
       "       ...,\n",
       "\n",
       "\n",
       "       [[[ 87.238365,  64.419426]],\n",
       "\n",
       "        [[107.015854,  62.33174 ]],\n",
       "\n",
       "        [[126.3546  ,  60.41719 ]],\n",
       "\n",
       "        ...,\n",
       "\n",
       "        [[206.4515  , 144.72871 ]],\n",
       "\n",
       "        [[224.4678  , 141.62308 ]],\n",
       "\n",
       "        [[241.67516 , 138.58846 ]]],\n",
       "\n",
       "\n",
       "       [[[ 99.5432  ,  71.63987 ]],\n",
       "\n",
       "        [[118.75877 ,  69.40288 ]],\n",
       "\n",
       "        [[137.70135 ,  67.19803 ]],\n",
       "\n",
       "        ...,\n",
       "\n",
       "        [[217.2149  , 149.34653 ]],\n",
       "\n",
       "        [[234.91426 , 146.12727 ]],\n",
       "\n",
       "        [[252.1103  , 142.81981 ]]],\n",
       "\n",
       "\n",
       "       [[[106.38611 ,  70.5344  ]],\n",
       "\n",
       "        [[125.36218 ,  68.16025 ]],\n",
       "\n",
       "        [[144.15295 ,  65.7676  ]],\n",
       "\n",
       "        ...,\n",
       "\n",
       "        [[223.24234 , 147.09451 ]],\n",
       "\n",
       "        [[240.86238 , 143.7622  ]],\n",
       "\n",
       "        [[257.92197 , 140.58392 ]]]], dtype=float32)"
      ]
     },
     "execution_count": 190,
     "metadata": {},
     "output_type": "execute_result"
    }
   ],
   "source": [
    "valid_corners = [cor[1] for cor in corners_copy if cor[0]]\n",
    "valid_corners = np.asarray(valid_corners, dtype=np.float32)\n",
    "valid_corners\n"
   ]
  },
  {
   "cell_type": "code",
   "execution_count": 191,
   "metadata": {},
   "outputs": [],
   "source": [
    "# TODO\n",
    "imgpoints = []\n",
    "for corners in valid_corners:\n",
    "    imgpoints.append(corners)\n",
    "    \n",
    "rms, intrinsics, dist_coeffs, rvecs, tvecs = cv2.calibrateCamera(chessboard_points,imgpoints,(320,240),None,None)\n",
    "\n",
    "extrinsics = list(map(lambda rvec, tvec: np.hstack((cv2.Rodrigues(rvec)[0], tvec)), rvecs, tvecs))"
   ]
  },
  {
   "cell_type": "code",
   "execution_count": 192,
   "metadata": {},
   "outputs": [
    {
     "name": "stdout",
     "output_type": "stream",
     "text": [
      "Intrinsics:\n",
      " [[423.80288223   0.         153.18519141]\n",
      " [  0.         425.36230617 128.26011376]\n",
      " [  0.           0.           1.        ]]\n",
      "Distortion coefficients:\n",
      " [[-2.88299368e-02 -2.12030047e+00  4.33679531e-03 -6.48614137e-03\n",
      "   1.11007858e+01]]\n",
      "Root mean squared reprojection error:\n",
      " 0.12213923233523334\n"
     ]
    }
   ],
   "source": [
    "# Print outputs\n",
    "print(\"Intrinsics:\\n\", intrinsics)\n",
    "print(\"Distortion coefficients:\\n\", dist_coeffs)\n",
    "print(\"Root mean squared reprojection error:\\n\", rms)"
   ]
  },
  {
   "cell_type": "markdown",
   "metadata": {},
   "source": [
    "### **Pregunta A.1:** Repita el proceso (carga de imágenes, detección y comprobación de esquinas, etc.) para la cámara derecha."
   ]
  },
  {
   "cell_type": "code",
   "execution_count": 193,
   "metadata": {},
   "outputs": [
    {
     "name": "stderr",
     "output_type": "stream",
     "text": [
      "C:\\Users\\Jose Juan\\AppData\\Local\\Temp\\ipykernel_14840\\283608422.py:2: DeprecationWarning: Starting with ImageIO v3 the behavior of this function will switch to that of iio.v3.imread. To keep the current behavior (and make this warning disappear) use `import imageio.v2 as imageio` or call `imageio.v2.imread` directly.\n",
      "  return [imageio.imread(filename) for filename in filenames]\n"
     ]
    },
    {
     "name": "stdout",
     "output_type": "stream",
     "text": [
      "Intrinsics:\n",
      " [[ 3.13142457e+03  0.00000000e+00 -2.46502071e+02]\n",
      " [ 0.00000000e+00  5.48749178e+02  6.28835221e+01]\n",
      " [ 0.00000000e+00  0.00000000e+00  1.00000000e+00]]\n",
      "Distortion coefficients:\n",
      " [[-9.56009827e+00 -6.83237363e+01  4.31237009e-01  1.41160589e-01\n",
      "   2.45492513e+03]]\n",
      "Root mean squared reprojection error:\n",
      " 41.911751662711616\n"
     ]
    }
   ],
   "source": [
    "# TODO Homework\n",
    "\n",
    "path = join(dirname(os.getcwd()), \"data\", \"right\")\n",
    "imgs_path = [join(path, f\"{img_path}\") for img_path in os.listdir(path)]\n",
    "imgs = load_images(imgs_path)\n",
    "corners = [cv2.findChessboardCorners(img,(8,6),None) for img in imgs]\n",
    "corners_copy = copy.deepcopy(corners)\n",
    "\n",
    "criteria = (cv2.TERM_CRITERIA_EPS + cv2.TERM_CRITERIA_MAX_ITER, 30, 0.01)\n",
    "\n",
    "# TODO To refine corner detections with cv2.cornerSubPix() you need to input grayscale images. Build a list containing grayscale images.\n",
    "imgs_gray = [cv2.cvtColor(img,cv2.COLOR_BGR2GRAY) for img in imgs]\n",
    "\n",
    "corners_refined = [cv2.cornerSubPix(i, cor[1], (8,6), (-1, -1), criteria) for i, cor in zip(imgs_gray, corners_copy) if cor[0]]\n",
    "\n",
    "imgs_copy = copy.deepcopy(imgs)\n",
    "\n",
    "for index, (img, corner) in enumerate(zip(imgs_copy, corners)):\n",
    "    if corner[0]:\n",
    "        cv2.drawChessboardCorners(img, (8, 6), corner[1], corner[0])\n",
    "        cv2.imshow(f'Imagen {index} con esquinas', img)\n",
    "        cv2.waitKey(500)\n",
    "        cv2.destroyAllWindows()\n",
    "\n",
    "def show_image(img):\n",
    "    cv2.imshow('Esquinas del tablero de ajedrez', img)\n",
    "    cv2.waitKey(500)\n",
    "    cv2.destroyAllWindows()\n",
    "    \n",
    "def write_image(path_name,img):\n",
    "    cv2.imwrite(path_name,img)\n",
    "\n",
    "def get_chessboard_points(chessboard_shape, dx, dy):\n",
    "    rows, cols = chessboard_shape\n",
    "    points = np.zeros((rows*cols,1,3),dtype=np.float32)\n",
    "\n",
    "    for i in range(rows):\n",
    "        for j in range(cols):\n",
    "            points[i*cols+j] = [j*dx,i*dy,0]\n",
    "    \n",
    "    return points\n",
    "\n",
    "chessboard_points = [get_chessboard_points((8,6), 30, 30) for i in range(len(corners_refined))]\n",
    "\n",
    "valid_corners = [cor[1] for cor in corners if cor[0]]\n",
    "valid_corners = np.asarray(valid_corners, dtype=np.float32)\n",
    "\n",
    "rms, intrinsics, dist_coeffs, rvecs, tvecs = cv2.calibrateCamera(chessboard_points,corners_refined,(8,6),None,None)\n",
    "\n",
    "extrinsics = list(map(lambda rvec, tvec: np.hstack((cv2.Rodrigues(rvec)[0], tvec)), rvecs, tvecs))\n",
    "\n",
    "print(\"Intrinsics:\\n\", intrinsics)\n",
    "print(\"Distortion coefficients:\\n\", dist_coeffs)\n",
    "print(\"Root mean squared reprojection error:\\n\", rms)\n",
    "\n",
    "image = cv2.imread('../data/right/right_000.jpg')\n",
    "undistorted_image = cv2.undistort(image, intrinsics, dist_coeffs)\n",
    "\n",
    "# Muestra la imagen original y la corregida\n",
    "cv2.imshow('Original Image', image)\n",
    "cv2.imshow('Undistorted Image', undistorted_image)\n",
    "cv2.waitKey(500)\n",
    "cv2.destroyAllWindows()"
   ]
  },
  {
   "cell_type": "markdown",
   "metadata": {},
   "source": [
    "### **Pregunta A.2:** Diferencias entre cv2.findChessboardCorners() y cv2.cornerSubPix()"
   ]
  },
  {
   "cell_type": "code",
   "execution_count": 194,
   "metadata": {},
   "outputs": [],
   "source": [
    "# TODO Homework\n",
    "for index, (img, corner) in enumerate(zip(imgs_copy, corners)):\n",
    "    if corner[0]:\n",
    "        cv2.drawChessboardCorners(img, (8,6), corner[1], corner[0])\n",
    "        cv2.imshow(f'Imagen {index} con esquinas', img)\n",
    "        cv2.waitKey(500)\n",
    "        cv2.destroyAllWindows()\n"
   ]
  },
  {
   "cell_type": "code",
   "execution_count": 195,
   "metadata": {},
   "outputs": [],
   "source": [
    "for index, (img, corner) in enumerate(zip(imgs_copy, corners_refined)):\n",
    "    cv2.drawChessboardCorners(img, (8, 6), corner, True)\n",
    "    cv2.imshow(f'Imagen {index} con esquinas', img)\n",
    "    cv2.waitKey(500)\n",
    "    cv2.destroyAllWindows()"
   ]
  },
  {
   "cell_type": "code",
   "execution_count": 196,
   "metadata": {},
   "outputs": [
    {
     "name": "stdout",
     "output_type": "stream",
     "text": [
      "El cornerSubPix es mas preciso que el findChessBoardCorners. Tiene sentido, ya que refina la posición de los corners\n"
     ]
    }
   ],
   "source": [
    "print(\"El cornerSubPix es mas preciso que el findChessBoardCorners. Tiene sentido, ya que refina la posición de los corners\")"
   ]
  },
  {
   "cell_type": "markdown",
   "metadata": {},
   "source": [
    "### **Pregunta A.3:** Número mínimo de imágenes necesarias para calibrar."
   ]
  },
  {
   "cell_type": "code",
   "execution_count": 197,
   "metadata": {},
   "outputs": [
    {
     "data": {
      "image/png": "[encoded data removed]",
      "text/plain": [
       "<Figure size 1000x600 with 1 Axes>"
      ]
     },
     "metadata": {},
     "output_type": "display_data"
    },
    {
     "name": "stdout",
     "output_type": "stream",
     "text": [
      "A partir de 15 ya devuelve un error aceptable por lo que con 15 sería suficiente para calibrar la cámara\n"
     ]
    }
   ],
   "source": [
    "# TODO Homework\n",
    "import cv2\n",
    "import matplotlib.pyplot as plt\n",
    "import numpy as np\n",
    "\n",
    "rms_values = []\n",
    "num_imgs = len(valid_corners) \n",
    "\n",
    "chessboard_points = np.zeros((6 * 8, 3), np.float32)\n",
    "chessboard_points[:, :2] = np.mgrid[0:8, 0:6].T.reshape(-1, 2) \n",
    "\n",
    "for i in range(1, num_imgs + 1):\n",
    "    selected_imgs_corners = valid_corners[:i]  \n",
    "    selected_chessboard_points = [chessboard_points] * i  \n",
    "\n",
    "    intrinsics = np.zeros((3, 3))\n",
    "    intrinsics[0, 0] = 1.0  \n",
    "    intrinsics[1, 1] = 1.0  \n",
    "    distortion = np.zeros((5, 1))  \n",
    "\n",
    "\n",
    "    ret, mtx, dist, rvecs, tvecs = cv2.calibrateCamera(\n",
    "        selected_chessboard_points,\n",
    "        selected_imgs_corners,\n",
    "        (320, 240),  \n",
    "        intrinsics,\n",
    "        distortion\n",
    "    )\n",
    "\n",
    "    rms_values.append(ret)  \n",
    "\n",
    "plt.figure(figsize=(10,6))\n",
    "plt.plot(range(1, num_imgs + 1), rms_values, marker='o', color='b')\n",
    "plt.title('Error RMS en función del número de imágenes utilizadas para la calibración')\n",
    "plt.xlabel('Número de imágenes')\n",
    "plt.ylabel('Error RMS')\n",
    "plt.grid(True)\n",
    "plt.show()\n",
    "print(\"A partir de 15 ya devuelve un error aceptable por lo que con 15 sería suficiente para calibrar la cámara\")"
   ]
  },
  {
   "cell_type": "markdown",
   "metadata": {},
   "source": [
    "## **Apartado B: Corrección de distorsión** (ojo de pez)"
   ]
  },
  {
   "cell_type": "markdown",
   "metadata": {},
   "source": [
    "En este apartado se trabajará en la corrección de la distorsión debido a lentes de ojo de pez. Primero se calibrará una cámara con este tipo de lente, utilizando las imágenes de la carpeta ``fisheye``. Posteriormente se utilizarán estos parámetros de calibración para corregir la distorsión de una de las imágenes de calibración.\n",
    "\n",
    "Los pasos que deberá seguir para calibrar una cámara con distorsión de ojo de pez son:\n",
    "\n",
    "1. Reutilice el método ``load_images()`` para cargar las imágenes de la carpeta ``fisheye``.\n",
    "2. Detecte las equinas procesando las imágenes con los métodos ``cv2.findChessboardCorners()`` y ``cv2.cornerSubPix()``.\n",
    "3. Reutilice la función ``get_chessboard_points()`` para obtener las coordenadas del tablero.\n",
    "4. Defina los argumentos para la función de calibración.\n",
    "5. Calibre con ``cv2.fisheye.calibrate()``"
   ]
  },
  {
   "cell_type": "markdown",
   "metadata": {},
   "source": [
    "### **Tarea B.1:** Reutilice el método ``load_images()`` para cargar las imágenes de la carpeta ``fisheye``"
   ]
  },
  {
   "cell_type": "code",
   "execution_count": 198,
   "metadata": {},
   "outputs": [
    {
     "name": "stderr",
     "output_type": "stream",
     "text": [
      "C:\\Users\\Jose Juan\\AppData\\Local\\Temp\\ipykernel_14840\\283608422.py:2: DeprecationWarning: Starting with ImageIO v3 the behavior of this function will switch to that of iio.v3.imread. To keep the current behavior (and make this warning disappear) use `import imageio.v2 as imageio` or call `imageio.v2.imread` directly.\n",
      "  return [imageio.imread(filename) for filename in filenames]\n"
     ]
    }
   ],
   "source": [
    "# TODO Build a list containing the paths of all images from the fisheye camera and load images\n",
    "path = join(dirname(os.getcwd()), \"data\", \"fisheye\")\n",
    "fisheye_imgs_path  = [join(path, f\"{img_path}\") for img_path in os.listdir(path)]\n",
    "fisheye_imgs = load_images(fisheye_imgs_path)\n"
   ]
  },
  {
   "cell_type": "markdown",
   "metadata": {},
   "source": [
    "### **Tarea B.2:** Detecte las equinas procesando las imágenes con los métodos ``cv2.findChessboardCorners()`` y ``cv2.cornerSubPix()``."
   ]
  },
  {
   "cell_type": "code",
   "execution_count": 199,
   "metadata": {},
   "outputs": [],
   "source": [
    "imgs_corners = []\n",
    "subpix_criteria = (cv2.TERM_CRITERIA_EPS + cv2.TERM_CRITERIA_MAX_ITER, 30, 0.1)\n",
    "\n",
    "for img in fisheye_imgs:\n",
    "    gray_img = cv2.cvtColor(img, cv2.COLOR_BGR2GRAY)\n",
    "    ret, corners = cv2.findChessboardCorners(gray_img, patternSize=(7,6))\n",
    "    if ret:\n",
    "        refined_corners = cv2.cornerSubPix(\n",
    "            gray_img, corners, (7, 7), (-1, -1), subpix_criteria\n",
    "        )\n",
    "        if refined_corners is not None:\n",
    "            imgs_corners.append(refined_corners)\n"
   ]
  },
  {
   "cell_type": "markdown",
   "metadata": {},
   "source": [
    "### **Tarea B.3:** Reutilice la función ``get_chessboard_points()`` para obtener las coordenadas del tablero"
   ]
  },
  {
   "cell_type": "code",
   "execution_count": 200,
   "metadata": {},
   "outputs": [
    {
     "data": {
      "text/plain": [
       "array([[[  0.,   0.,   0.]],\n",
       "\n",
       "       [[ 30.,   0.,   0.]],\n",
       "\n",
       "       [[ 60.,   0.,   0.]],\n",
       "\n",
       "       [[ 90.,   0.,   0.]],\n",
       "\n",
       "       [[120.,   0.,   0.]],\n",
       "\n",
       "       [[150.,   0.,   0.]],\n",
       "\n",
       "       [[  0.,  30.,   0.]],\n",
       "\n",
       "       [[ 30.,  30.,   0.]],\n",
       "\n",
       "       [[ 60.,  30.,   0.]],\n",
       "\n",
       "       [[ 90.,  30.,   0.]],\n",
       "\n",
       "       [[120.,  30.,   0.]],\n",
       "\n",
       "       [[150.,  30.,   0.]],\n",
       "\n",
       "       [[  0.,  60.,   0.]],\n",
       "\n",
       "       [[ 30.,  60.,   0.]],\n",
       "\n",
       "       [[ 60.,  60.,   0.]],\n",
       "\n",
       "       [[ 90.,  60.,   0.]],\n",
       "\n",
       "       [[120.,  60.,   0.]],\n",
       "\n",
       "       [[150.,  60.,   0.]],\n",
       "\n",
       "       [[  0.,  90.,   0.]],\n",
       "\n",
       "       [[ 30.,  90.,   0.]],\n",
       "\n",
       "       [[ 60.,  90.,   0.]],\n",
       "\n",
       "       [[ 90.,  90.,   0.]],\n",
       "\n",
       "       [[120.,  90.,   0.]],\n",
       "\n",
       "       [[150.,  90.,   0.]],\n",
       "\n",
       "       [[  0., 120.,   0.]],\n",
       "\n",
       "       [[ 30., 120.,   0.]],\n",
       "\n",
       "       [[ 60., 120.,   0.]],\n",
       "\n",
       "       [[ 90., 120.,   0.]],\n",
       "\n",
       "       [[120., 120.,   0.]],\n",
       "\n",
       "       [[150., 120.,   0.]],\n",
       "\n",
       "       [[  0., 150.,   0.]],\n",
       "\n",
       "       [[ 30., 150.,   0.]],\n",
       "\n",
       "       [[ 60., 150.,   0.]],\n",
       "\n",
       "       [[ 90., 150.,   0.]],\n",
       "\n",
       "       [[120., 150.,   0.]],\n",
       "\n",
       "       [[150., 150.,   0.]],\n",
       "\n",
       "       [[  0., 180.,   0.]],\n",
       "\n",
       "       [[ 30., 180.,   0.]],\n",
       "\n",
       "       [[ 60., 180.,   0.]],\n",
       "\n",
       "       [[ 90., 180.,   0.]],\n",
       "\n",
       "       [[120., 180.,   0.]],\n",
       "\n",
       "       [[150., 180.,   0.]]], dtype=float32)"
      ]
     },
     "execution_count": 200,
     "metadata": {},
     "output_type": "execute_result"
    }
   ],
   "source": [
    "# TODO Define the chessboard dimensions and the lenght of the squares (in [mm])\n",
    "chessboard_dims = (7,6)\n",
    "square_size = 30\n",
    "get_chessboard_points(chessboard_dims, square_size, square_size)"
   ]
  },
  {
   "cell_type": "markdown",
   "metadata": {},
   "source": [
    "### **Tarea B.4:** Defina los argumentos para la calibración"
   ]
  },
  {
   "cell_type": "code",
   "execution_count": 201,
   "metadata": {},
   "outputs": [],
   "source": [
    "calibration_flags = cv2.fisheye.CALIB_RECOMPUTE_EXTRINSIC \n",
    "intrinsics = np.zeros((3, 3))\n",
    "intrinsics[0, 0] = 1.0 \n",
    "intrinsics[1, 1] = 1.0 \n",
    "intrinsics[0, 2] = 1024 / 2  \n",
    "intrinsics[1, 2] = 768 / 2  \n",
    "intrinsics[2, 2] = 1.0\n",
    "\n",
    "distortion = np.zeros((4, 1))  \n",
    "distortion[0][0] = -0.5\n",
    "distortion[1][0] = 0.2\n",
    "distortion[2][0] = 0.05\n",
    "rotations = []  \n",
    "\n",
    "translations = []  \n",
    "\n",
    "imags_corners = [\n",
    "    np.array(corners).reshape(-1, 1, 2).astype(np.float32) for corners in imgs_corners if corners is not None\n",
    "]\n",
    "object_points = [\n",
    "    get_chessboard_points(chessboard_dims, square_size, square_size).astype(np.float32) for _ in range(len(imags_corners))\n",
    "]"
   ]
  },
  {
   "cell_type": "markdown",
   "metadata": {},
   "source": [
    "### **Tarea B.5:** Calibración"
   ]
  },
  {
   "cell_type": "code",
   "execution_count": 202,
   "metadata": {},
   "outputs": [],
   "source": [
    "ret, intrinsics, distortion, rotations, translations = cv2.fisheye.calibrate(\n",
    "    objectPoints=object_points,\n",
    "    imagePoints=imgs_corners,\n",
    "    image_size=(1024, 768),  # Tamaño de las imágenes de calibración\n",
    "    K=intrinsics,  # Matriz intrínseca\n",
    "    D=distortion,  # Coeficientes de distorsión\n",
    "    flags=calibration_flags,\n",
    "    criteria=(cv2.TERM_CRITERIA_EPS + cv2.TERM_CRITERIA_MAX_ITER, 1000, 1e-6)\n",
    ")"
   ]
  },
  {
   "cell_type": "code",
   "execution_count": 203,
   "metadata": {},
   "outputs": [
    {
     "name": "stdout",
     "output_type": "stream",
     "text": [
      "[[325.94932345   0.         511.5       ]\n",
      " [  0.         325.94932345 383.5       ]\n",
      " [  0.           0.           1.        ]]\n",
      "[[0.]\n",
      " [0.]\n",
      " [0.]\n",
      " [0.]]\n"
     ]
    }
   ],
   "source": [
    "# Show intrinsic matrix and distortion coefficients values\n",
    "print(intrinsics)\n",
    "print(distortion)"
   ]
  },
  {
   "cell_type": "markdown",
   "metadata": {},
   "source": [
    "### **Pregunta B.1:** Corrija la distorsión de las 2 primeras imágenes de la carpeta ``fisheye``"
   ]
  },
  {
   "cell_type": "code",
   "execution_count": 204,
   "metadata": {},
   "outputs": [],
   "source": [
    "# TODO Search in the documentation to define 'dim'\n",
    "dim = (1024,768)\n",
    "map1, map2 = cv2.fisheye.initUndistortRectifyMap(intrinsics, distortion, np.eye(3), intrinsics, dim, cv2.CV_16SC2)"
   ]
  },
  {
   "cell_type": "code",
   "execution_count": 205,
   "metadata": {},
   "outputs": [],
   "source": [
    "# TODO Homework: correct distortion using cv2.remap()\n",
    "image = cv2.imread('../data/fisheye/VMRImage1.jpg')\n",
    "\n",
    "# Supón que ya has definido 'intrinsics', 'distortion', 'dim', 'map1', y 'map2'\n",
    "# Corrige la distorsión\n",
    "\n",
    "undistorted_image = cv2.remap(image, map1, map2, interpolation=cv2.INTER_LINEAR)\n",
    "\n",
    "# Muestra la imagen original y la corregida\n",
    "cv2.imshow('Original Image', image)\n",
    "cv2.imshow('Undistorted Image', undistorted_image)\n",
    "cv2.waitKey(5000)\n",
    "cv2.destroyAllWindows()\n",
    "\n",
    "image = cv2.imread('../data/fisheye/VMRImage2.jpg')\n",
    "\n",
    "# Supón que ya has definido 'intrinsics', 'distortion', 'dim', 'map1', y 'map2'\n",
    "# Corrige la distorsión\n",
    "\n",
    "undistorted_image = cv2.remap(image, map1, map2, interpolation=cv2.INTER_LINEAR)\n",
    "\n",
    "# Muestra la imagen original y la corregida\n",
    "cv2.imshow('Original Image', image)\n",
    "cv2.imshow('Undistorted Image', undistorted_image)\n",
    "cv2.waitKey(5000)\n",
    "cv2.destroyAllWindows()"
   ]
  }
 ],
 "metadata": {
  "kernelspec": {
   "display_name": "tnse_delete",
   "language": "python",
   "name": "python3"
  },
  "language_info": {
   "codemirror_mode": {
    "name": "ipython",
    "version": 3
   },
   "file_extension": ".py",
   "mimetype": "text/x-python",
   "name": "python",
   "nbconvert_exporter": "python",
   "pygments_lexer": "ipython3",
   "version": "3.11.7"
  }
 },
 "nbformat": 4,
 "nbformat_minor": 2
}
