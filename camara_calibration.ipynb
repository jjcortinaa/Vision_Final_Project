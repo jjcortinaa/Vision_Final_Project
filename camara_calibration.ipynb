{
 "cells": [
  {
   "cell_type": "code",
   "execution_count": 1,
   "metadata": {},
   "outputs": [],
   "source": [
    "from typing import List\n",
    "import numpy as np\n",
    "import imageio\n",
    "import cv2\n",
    "import copy\n",
    "import glob\n",
    "import os\n",
    "from os.path import dirname, join"
   ]
  },
  {
   "cell_type": "code",
   "execution_count": 2,
   "metadata": {},
   "outputs": [],
   "source": [
    "def load_images(filenames: List) -> List:\n",
    "    return [imageio.imread(filename) for filename in filenames]"
   ]
  },
  {
   "cell_type": "code",
   "execution_count": 3,
   "metadata": {},
   "outputs": [
    {
     "name": "stderr",
     "output_type": "stream",
     "text": [
      "/var/folders/30/_9yyp9911q3b6fn11_45rt6m0000gn/T/ipykernel_3430/283608422.py:2: DeprecationWarning: Starting with ImageIO v3 the behavior of this function will switch to that of iio.v3.imread. To keep the current behavior (and make this warning disappear) use `import imageio.v2 as imageio` or call `imageio.v2.imread` directly.\n",
      "  return [imageio.imread(filename) for filename in filenames]\n"
     ]
    }
   ],
   "source": [
    "path = join(dirname(os.getcwd()), \"Vision_Final_Project\",\"fotos\")\n",
    "imgs_path = [join(path, f\"{img_path}\") for img_path in os.listdir(path)]\n",
    "imgs = load_images(imgs_path)\n"
   ]
  },
  {
   "cell_type": "code",
   "execution_count": 4,
   "metadata": {},
   "outputs": [],
   "source": [
    "corners = [cv2.findChessboardCorners(img,(7,7),None) for img in imgs]\n"
   ]
  },
  {
   "cell_type": "code",
   "execution_count": 5,
   "metadata": {},
   "outputs": [],
   "source": [
    "corners_copy = copy.deepcopy(corners)\n",
    "criteria = (cv2.TERM_CRITERIA_EPS + cv2.TERM_CRITERIA_MAX_ITER, 30, 0.01)\n",
    "\n",
    "# TODO To refine corner detections with cv2.cornerSubPix() you need to input grayscale images. Build a list containing grayscale images.\n",
    "imgs_gray = [cv2.cvtColor(img,cv2.COLOR_BGR2GRAY) for img in imgs]\n",
    "\n",
    "corners_refined = [cv2.cornerSubPix(i, cor[1], (7,7), (-1, -1), criteria) if cor[0] else [] for i, cor in zip(imgs_gray, corners_copy)]\n"
   ]
  },
  {
   "cell_type": "code",
   "execution_count": 6,
   "metadata": {},
   "outputs": [],
   "source": [
    "imgs_copy = copy.deepcopy(imgs)\n"
   ]
  },
  {
   "cell_type": "code",
   "execution_count": 7,
   "metadata": {},
   "outputs": [
    {
     "name": "stderr",
     "output_type": "stream",
     "text": [
      "2024-12-03 18:33:49.431 Python[3430:16316] WARNING: Secure coding is not enabled for restorable state! Enable secure coding by implementing NSApplicationDelegate.applicationSupportsSecureRestorableState: and returning YES.\n"
     ]
    }
   ],
   "source": [
    "\n",
    "for index, (img, corner) in enumerate(zip(imgs_copy, corners)):\n",
    "    if corner[0]:\n",
    "        cv2.drawChessboardCorners(img, (7,7), corner[1], corner[0])\n",
    "        cv2.imshow(f'Imagen {index} con esquinas', img)\n",
    "        cv2.waitKey(500)\n",
    "        cv2.destroyAllWindows()\n"
   ]
  },
  {
   "cell_type": "code",
   "execution_count": 8,
   "metadata": {},
   "outputs": [],
   "source": [
    "def show_image(img):\n",
    "    cv2.imshow('Esquinas del tablero de ajedrez', img)\n",
    "    cv2.waitKey(500)\n",
    "    cv2.destroyAllWindows()\n",
    "    \n",
    "def write_image(path_name,img):\n",
    "    cv2.imwrite(path_name,img)"
   ]
  },
  {
   "cell_type": "code",
   "execution_count": 9,
   "metadata": {},
   "outputs": [],
   "source": [
    "def get_chessboard_points(chessboard_shape, dx, dy):\n",
    "    # rows, cols = chessboard_shape\n",
    "    # points = np.zeros((rows*cols,1,3),dtype=np.float32)\n",
    "    points = []\n",
    "    for y in range(chessboard_shape[1]):\n",
    "        for x in range(chessboard_shape[0]):\n",
    "            # points[i*cols+j] = [j*dx,i*dy,0]\n",
    "            points.append([x*dx,y*dy,0])\n",
    "    return np.array(points,np.float32)"
   ]
  },
  {
   "cell_type": "code",
   "execution_count": 10,
   "metadata": {},
   "outputs": [],
   "source": [
    "chessboard_points = [get_chessboard_points((7,7), 30, 30) for corner in corners_copy if corner[0]]"
   ]
  },
  {
   "cell_type": "code",
   "execution_count": 11,
   "metadata": {},
   "outputs": [
    {
     "data": {
      "text/plain": [
       "array([[[[ 864.2804  ,  137.6336  ]],\n",
       "\n",
       "        [[ 875.8287  ,  198.9104  ]],\n",
       "\n",
       "        [[ 888.81024 ,  262.15103 ]],\n",
       "\n",
       "        ...,\n",
       "\n",
       "        [[ 301.62677 ,  422.27844 ]],\n",
       "\n",
       "        [[ 289.00656 ,  508.748   ]],\n",
       "\n",
       "        [[ 274.17032 ,  603.57996 ]]],\n",
       "\n",
       "\n",
       "       [[[ 283.122   ,   91.89903 ]],\n",
       "\n",
       "        [[ 355.70074 ,  110.426704]],\n",
       "\n",
       "        [[ 426.5647  ,  128.01099 ]],\n",
       "\n",
       "        ...,\n",
       "\n",
       "        [[ 469.68762 ,  582.23267 ]],\n",
       "\n",
       "        [[ 543.2684  ,  598.20575 ]],\n",
       "\n",
       "        [[ 616.89154 ,  614.28094 ]]],\n",
       "\n",
       "\n",
       "       [[[ 617.27765 ,  538.2804  ]],\n",
       "\n",
       "        [[ 625.3559  ,  468.35788 ]],\n",
       "\n",
       "        [[ 633.24097 ,  398.21204 ]],\n",
       "\n",
       "        ...,\n",
       "\n",
       "        [[1114.9911  ,  310.21176 ]],\n",
       "\n",
       "        [[1129.7618  ,  232.4571  ]],\n",
       "\n",
       "        [[1145.5946  ,  151.83626 ]]],\n",
       "\n",
       "\n",
       "       ...,\n",
       "\n",
       "\n",
       "       [[[ 633.70874 ,  112.355156]],\n",
       "\n",
       "        [[ 711.6895  ,  118.07471 ]],\n",
       "\n",
       "        [[ 790.6989  ,  123.79872 ]],\n",
       "\n",
       "        ...,\n",
       "\n",
       "        [[ 898.90265 ,  581.32043 ]],\n",
       "\n",
       "        [[ 974.10046 ,  588.6061  ]],\n",
       "\n",
       "        [[1049.3226  ,  596.1971  ]]],\n",
       "\n",
       "\n",
       "       [[[ 496.76132 ,  146.30058 ]],\n",
       "\n",
       "        [[ 564.50916 ,  159.701   ]],\n",
       "\n",
       "        [[ 632.21436 ,  173.37495 ]],\n",
       "\n",
       "        ...,\n",
       "\n",
       "        [[ 687.5761  ,  605.66614 ]],\n",
       "\n",
       "        [[ 755.13354 ,  618.8015  ]],\n",
       "\n",
       "        [[ 821.6209  ,  631.53314 ]]],\n",
       "\n",
       "\n",
       "       [[[ 874.1957  ,  165.31009 ]],\n",
       "\n",
       "        [[ 867.8441  ,  242.24693 ]],\n",
       "\n",
       "        [[ 862.4509  ,  314.84674 ]],\n",
       "\n",
       "        ...,\n",
       "\n",
       "        [[ 389.36893 ,  470.95612 ]],\n",
       "\n",
       "        [[ 399.14926 ,  529.6746  ]],\n",
       "\n",
       "        [[ 408.21243 ,  585.9259  ]]]], dtype=float32)"
      ]
     },
     "execution_count": 11,
     "metadata": {},
     "output_type": "execute_result"
    }
   ],
   "source": [
    "valid_corners = [cor[1] for cor in corners_copy if cor[0]]\n",
    "valid_corners = np.asarray(valid_corners, dtype=np.float32)\n",
    "valid_corners"
   ]
  },
  {
   "cell_type": "code",
   "execution_count": 12,
   "metadata": {},
   "outputs": [],
   "source": [
    "# TODO\n",
    "imgpoints = []\n",
    "for corners in valid_corners:\n",
    "    imgpoints.append(corners)\n",
    "    \n",
    "rms, intrinsics, dist_coeffs, rvecs, tvecs = cv2.calibrateCamera(chessboard_points,imgpoints,(320,240),None,None)\n",
    "\n",
    "extrinsics = list(map(lambda rvec, tvec: np.hstack((cv2.Rodrigues(rvec)[0], tvec)), rvecs, tvecs))"
   ]
  },
  {
   "cell_type": "code",
   "execution_count": 13,
   "metadata": {},
   "outputs": [
    {
     "name": "stdout",
     "output_type": "stream",
     "text": [
      "Intrinsics:\n",
      " [[1.42806727e+03 0.00000000e+00 6.28227685e+02]\n",
      " [0.00000000e+00 1.43121937e+03 3.72073582e+02]\n",
      " [0.00000000e+00 0.00000000e+00 1.00000000e+00]]\n",
      "Distortion coefficients:\n",
      " [[ 5.97919025e-02 -3.92112082e-01  1.24165183e-03 -3.75933515e-03\n",
      "   1.56092353e+00]]\n",
      "Root mean squared reprojection error:\n",
      " 0.5733208305621582\n"
     ]
    }
   ],
   "source": [
    "print(\"Intrinsics:\\n\", intrinsics)\n",
    "print(\"Distortion coefficients:\\n\", dist_coeffs)\n",
    "print(\"Root mean squared reprojection error:\\n\", rms)"
   ]
  }
 ],
 "metadata": {
  "kernelspec": {
   "display_name": "Python 3",
   "language": "python",
   "name": "python3"
  },
  "language_info": {
   "codemirror_mode": {
    "name": "ipython",
    "version": 3
   },
   "file_extension": ".py",
   "mimetype": "text/x-python",
   "name": "python",
   "nbconvert_exporter": "python",
   "pygments_lexer": "ipython3",
   "version": "3.11.7"
  }
 },
 "nbformat": 4,
 "nbformat_minor": 2
}
