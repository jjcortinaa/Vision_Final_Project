{
 "cells": [
  {
   "cell_type": "markdown",
   "metadata": {},
   "source": [
    "# **Sesión 3: Procesamiento Avanzado de Imágenes** ⚙️🖼️"
   ]
  },
  {
   "cell_type": "markdown",
   "metadata": {},
   "source": [
    "## **Librerías**"
   ]
  },
  {
   "cell_type": "code",
   "execution_count": 13,
   "metadata": {},
   "outputs": [],
   "source": [
    "import cv2\n",
    "import os\n",
    "import copy \n",
    "import imageio\n",
    "from typing import List\n",
    "import numpy as np"
   ]
  },
  {
   "cell_type": "markdown",
   "metadata": {},
   "source": [
    "## **Apartado B:** Detección de lineas rectas\n",
    "El objetivo de este apartado es la detección de líneas y bordes en las imágenes de la carpeta `data`.\n",
    "1. **Tarea B.1.** Aplique `cv2.Canny()` a las imágenes de trabajo ajustando los hiperparámetros.\n",
    "3. **Tarea B.2.** Implemente la función `draw_lines()` para pintar las líneas sobre las imágenes.\n",
    "4. **Tarea B.3.** Aplique Hough con `cv2.HoughLinesP()` a las imágenes de trabajo para extraer líneas y afine los hiperparámetros.\n",
    "5. **Problema B.1.** Repita el procedimiento para extraer las líneas de las dos imágenes restantes."
   ]
  },
  {
   "cell_type": "markdown",
   "metadata": {},
   "source": [
    "### **NOTA**\n",
    "Podéis usar el mismo formato de guardado de resultados y nomenclatura que en partA o hacer uso de la funcion `show_image()` del Lab 2. Usad las herramientas con las que os sintáis más cómodos"
   ]
  },
  {
   "cell_type": "code",
   "execution_count": 14,
   "metadata": {},
   "outputs": [
    {
     "name": "stderr",
     "output_type": "stream",
     "text": [
      "C:\\Users\\Jose Juan\\AppData\\Local\\Temp\\ipykernel_44728\\3303442465.py:8: DeprecationWarning: Starting with ImageIO v3 the behavior of this function will switch to that of iio.v3.imread. To keep the current behavior (and make this warning disappear) use `import imageio.v2 as imageio` or call `imageio.v2.imread` directly.\n",
      "  return [imageio.imread(filename) for filename in filenames]\n"
     ]
    }
   ],
   "source": [
    "import glob\n",
    "\n",
    "# This initial part is to highlight that cv2.imshow() and cv2.imwrite() works well with previous BGR conversion\n",
    "def imageio_load_images(filenames):\n",
    "    '''\n",
    "    Load images using imageio.imread function (RGB)\n",
    "    '''\n",
    "    return [imageio.imread(filename) for filename in filenames]\n",
    "\n",
    "def opencv_load_images(filenames):\n",
    "    '''\n",
    "    Load images cv2.imread function (BGR)\n",
    "    '''\n",
    "    return [cv2.imread(filename) for filename in filenames]\n",
    "\n",
    "# TODO Create two sorted lists with the paths of all images in the data/source folder using glob\n",
    "source_paths = sorted(glob.glob(\"../data/source/*\"))\n",
    "\n",
    "# Cargar las imágenes utilizando ambas funciones\n",
    "imageio_images = imageio_load_images(source_paths)\n",
    "opencv_images = opencv_load_images(source_paths)"
   ]
  },
  {
   "cell_type": "markdown",
   "metadata": {},
   "source": [
    "### **Tarea B.1.** Aplique `cv2.Canny()` a las imágenes de trabajo ajustando los hiperparámetros"
   ]
  },
  {
   "cell_type": "code",
   "execution_count": 15,
   "metadata": {},
   "outputs": [
    {
     "data": {
      "text/plain": [
       "True"
      ]
     },
     "execution_count": 15,
     "metadata": {},
     "output_type": "execute_result"
    }
   ],
   "source": [
    "# TODO Apply canny to the images, play with the thresholds to get a good result\n",
    "\n",
    "\n",
    "destination_folder = \"../data/partB\"\n",
    "edge_imgs = []  # to store the canny edge images for later Hough transform\n",
    "\n",
    "# 1st image\n",
    "\n",
    "# Hyperparameters\n",
    "low_threshold = 50  \n",
    "high_threshold = 150\n",
    "\n",
    "# get the first image\n",
    "img1_path = \"../data/source/0.jpg\"\n",
    "img1 = cv2.imread(img1_path)\n",
    "\n",
    "# Convert to grayscale\n",
    "gray_img = cv2.cvtColor(img1, cv2.COLOR_BGR2GRAY)\n",
    "\n",
    "# Apply Canny edge detection\n",
    "edge_img = cv2.Canny(gray_img, low_threshold, high_threshold)\n",
    "\n",
    "# Store the edge image for later Hough transform\n",
    "edge_imgs.append(edge_img)\n",
    "\n",
    "# Display the image or save it as you like\n",
    "cv2.imwrite(os.path.join(destination_folder, \"Canny_Edge_1.jpg\"), edge_img)\n",
    "\n",
    "# 2nd image\n",
    "\n",
    "# Hyperparameters\n",
    "low_threshold = 70\n",
    "high_threshold = 200\n",
    "\n",
    "# get the first image\n",
    "img2_path = \"../data/source/1.png\"\n",
    "img2 = cv2.imread(img2_path)\n",
    "\n",
    "# Convert to grayscale\n",
    "gray_img = cv2.cvtColor(img2, cv2.COLOR_BGR2GRAY)\n",
    "\n",
    "# Apply Canny edge detection\n",
    "edge_img = cv2.Canny(gray_img, low_threshold, high_threshold)\n",
    "\n",
    "# Store the edge image for later Hough transform\n",
    "edge_imgs.append(edge_img)\n",
    "\n",
    "# Display the image or save it as you like\n",
    "cv2.imwrite(os.path.join(destination_folder, \"Canny_Edge_2.jpg\"), edge_img)"
   ]
  },
  {
   "cell_type": "markdown",
   "metadata": {},
   "source": [
    "### **Tarea B.2.** Implemente `draw_lines()` para pintar las lineas sobre cada imagen"
   ]
  },
  {
   "cell_type": "code",
   "execution_count": 16,
   "metadata": {},
   "outputs": [],
   "source": [
    "# TODO Draw the lines on the images. A line is a tuple of 4 integers (x1, y1, x2, y2) where (x1, y1) and (x2, y2) are the coordinates of the two points of the line.\n",
    "def draw_lines(img, lines, color=(0, 255, 0), thickness=2):\n",
    "    for line in lines:\n",
    "        x1, y1, x2, y2 = line[0]\n",
    "        cv2.line(img, (x1, y1), (x2, y2), color, thickness)\n",
    "    return img"
   ]
  },
  {
   "cell_type": "markdown",
   "metadata": {},
   "source": [
    "### **Tarea B.3.** Aplique Hough con `cv2.HoughLinesP()` a las imágenes de trabajo para extraer líneas y afine los hiperparámetros"
   ]
  },
  {
   "cell_type": "code",
   "execution_count": 17,
   "metadata": {},
   "outputs": [
    {
     "data": {
      "text/plain": [
       "True"
      ]
     },
     "execution_count": 17,
     "metadata": {},
     "output_type": "execute_result"
    }
   ],
   "source": [
    "# TODO Apply the hough transform to the images, play with the parameters to get a good result\n",
    "import numpy as np\n",
    "# 1st image\n",
    "\n",
    "# Define the hough transform parameters\n",
    "rho = 1                 \n",
    "theta = np.pi / 180\n",
    "threshold = 50          \n",
    "min_line_length = 30    \n",
    "max_line_gap = 10\n",
    "\n",
    "\n",
    "# Apply the hough transform\n",
    "lines_img1 = cv2.HoughLinesP(edge_imgs[0], rho, theta, threshold, minLineLength=min_line_length, maxLineGap=max_line_gap)\n",
    "\n",
    "original_img1 = cv2.imread(\"../data/source/0.jpg\")  # Asegúrate de que esta ruta sea correcta\n",
    "img_with_lines1 = draw_lines(original_img1.copy(), lines_img1, color=(255, 0, 0), thickness=3)  # Color rojo, grosor 3\n",
    "\n",
    "# Show the image or save it as you like\n",
    "cv2.imwrite(os.path.join(destination_folder, \"Hough_Transform_Image_1.jpg\"), img_with_lines1)\n",
    "\n",
    "# 2nd image\n",
    "rho = 1                 \n",
    "theta = np.pi / 180\n",
    "threshold = 50          \n",
    "min_line_length = 30    \n",
    "max_line_gap = 10\n",
    "\n",
    "\n",
    "\n",
    "# Apply the hough transform\n",
    "lines_img1 = cv2.HoughLinesP(edge_imgs[1], rho, theta, threshold, minLineLength=min_line_length, maxLineGap=max_line_gap)\n",
    "original_img1 = cv2.imread(\"../data/source/1.png\")  # Asegúrate de que esta ruta sea correcta\n",
    "img_with_lines1 = draw_lines(original_img1.copy(), lines_img1, color=(255, 0, 0), thickness=3)  # Color rojo, grosor 3\n",
    "\n",
    "# Show the image or save it as you like\n",
    "cv2.imwrite(os.path.join(destination_folder, \"Hough_Transform_Image_2.jpg\"), img_with_lines1)"
   ]
  },
  {
   "cell_type": "markdown",
   "metadata": {},
   "source": [
    "### **Problema B.1.** Repita el procedimiento para extraer las líneas de las dos imágenes restantes"
   ]
  },
  {
   "cell_type": "code",
   "execution_count": 18,
   "metadata": {},
   "outputs": [],
   "source": [
    "def show_image(img: np.array, img_name: str = \"Image\"):\n",
    "    cv2.imshow(img_name, img)\n",
    "    cv2.waitKey(0)\n",
    "    cv2.destroyAllWindows()"
   ]
  },
  {
   "cell_type": "code",
   "execution_count": 19,
   "metadata": {},
   "outputs": [
    {
     "name": "stdout",
     "output_type": "stream",
     "text": [
      "[[[451 497 644 497]]\n",
      "\n",
      " [[655 637 655  15]]\n",
      "\n",
      " [[515 360 647 360]]\n",
      "\n",
      " ...\n",
      "\n",
      " [[ 38 426  71 426]]\n",
      "\n",
      " [[249 426 305 426]]\n",
      "\n",
      " [[482 117 485 114]]]\n",
      "[[[ 61 226 289 226]]\n",
      "\n",
      " [[ 66 250 284 250]]\n",
      "\n",
      " [[ 61  66 165  66]]\n",
      "\n",
      " [[ 63  39 287  39]]\n",
      "\n",
      " [[291  64 519  64]]\n",
      "\n",
      " [[415 224 519 224]]\n",
      "\n",
      " [[289 223 289  67]]\n",
      "\n",
      " [[519 223 519 146]]\n",
      "\n",
      " [[521 252 521  38]]\n",
      "\n",
      " [[290 144 413 144]]\n",
      "\n",
      " [[291 224 291 145]]\n",
      "\n",
      " [[292 146 413 146]]\n",
      "\n",
      " [[167 224 167 146]]\n",
      "\n",
      " [[ 58 252  58  39]]\n",
      "\n",
      " [[165 224 165  67]]\n",
      "\n",
      " [[ 61 224  61 146]]\n",
      "\n",
      " [[413 223 413 147]]\n",
      "\n",
      " [[415 223 415  66]]\n",
      "\n",
      " [[207  64 263  64]]\n",
      "\n",
      " [[337 226 393 226]]\n",
      "\n",
      " [[ 77  64 133  64]]\n",
      "\n",
      " [[418 226 474 226]]\n",
      "\n",
      " [[156  64 206  64]]\n",
      "\n",
      " [[168 224 288 224]]\n",
      "\n",
      " [[290  66 412  66]]\n",
      "\n",
      " [[413 136 413  80]]\n",
      "\n",
      " [[420  39 476  39]]\n",
      "\n",
      " [[291  67 291 114]]\n",
      "\n",
      " [[300 250 348 250]]\n",
      "\n",
      " [[ 61  97  61 144]]\n",
      "\n",
      " [[358 250 414 250]]\n",
      "\n",
      " [[519 101 519  66]]\n",
      "\n",
      " [[299  39 355  39]]\n",
      "\n",
      " [[418 250 474 250]]\n",
      "\n",
      " [[167  72 167 128]]\n",
      "\n",
      " [[191 144 232 144]]\n",
      "\n",
      " [[ 95 224 151 224]]\n",
      "\n",
      " [[416  66 465  66]]\n",
      "\n",
      " [[519 144 519 102]]\n",
      "\n",
      " [[477  39 517  39]]\n",
      "\n",
      " [[479 250 515 250]]\n",
      "\n",
      " [[468  66 518  66]]]\n"
     ]
    }
   ],
   "source": [
    "# TODO Homework\n",
    "# TODO Apply canny to the images, play with the thresholds to get a good result\n",
    "\n",
    "\n",
    "# 3rd image\n",
    "img = opencv_images[2]\n",
    "\n",
    "# Hyperparameters\n",
    "low_threshold = 60\n",
    "high_threshold = 200\n",
    "\n",
    "# Convert to grayscale\n",
    "gray_img = cv2.cvtColor(img, cv2.COLOR_BGR2GRAY)\n",
    "\n",
    "# Apply Canny edge detection\n",
    "edge_img = cv2.Canny(img, low_threshold, high_threshold)\n",
    "\n",
    "# Store the edge image for later Hough transform\n",
    "edge_imgs.append(edge_img)\n",
    "\n",
    "# Display the image or save it as you like\n",
    "show_image(edge_img)\n",
    "\n",
    "\n",
    "\n",
    "# get the fourth image\n",
    "img = opencv_images[3]\n",
    "\n",
    "# Hyperparameters\n",
    "low_threshold = 60\n",
    "high_threshold = 230\n",
    "\n",
    "# Convert to grayscale\n",
    "gray_img = cv2.cvtColor(img, cv2.COLOR_BGR2GRAY)\n",
    "\n",
    "# Apply Canny edge detection\n",
    "edge_img = cv2.Canny(img, low_threshold, high_threshold)\n",
    "\n",
    "# Store the edge image for later Hough transform\n",
    "edge_imgs.append(edge_img)\n",
    "\n",
    "# Display the image or save it as you like\n",
    "show_image(edge_img)\n",
    "\n",
    "# 3rd image (opencv_images[2])\n",
    "# Define the hough transform parameters\n",
    "rho = 1\n",
    "theta = np.pi / 180\n",
    "threshold = 50\n",
    "min_line_length = 20\n",
    "max_line_gap = 2\n",
    "\n",
    "# Get the edge image for the 3rd image\n",
    "edges = edge_imgs[2]\n",
    "\n",
    "# Apply the hough transform\n",
    "lines = cv2.HoughLinesP(edges, rho, theta, threshold, min_line_length, max_line_gap)\n",
    "print(lines)\n",
    "\n",
    "# Draw the lines on the image (on the original image, make sure to get a deep copy to avoid modifying the original)\n",
    "img_with_lines = draw_lines(copy.deepcopy(opencv_images[2]), lines, (0, 255, 0), thickness=3)\n",
    "\n",
    "# Show the image or save it as you like\n",
    "show_image(img_with_lines)\n",
    "\n",
    "# 4th image (opencv_images[3])\n",
    "rho = 1\n",
    "theta = np.pi/180\n",
    "threshold = 25\n",
    "min_line_length = 5\n",
    "max_line_gap = 35\n",
    "\n",
    "# Get the edge image for the 4th image\n",
    "edges = edge_imgs[3]\n",
    "\n",
    "# Apply the hough transform\n",
    "lines = cv2.HoughLinesP(edges, rho, theta, threshold, min_line_length, max_line_gap)\n",
    "print(lines)\n",
    "\n",
    "# Draw the lines on the image (on the original image, make sure to get a deep copy)\n",
    "img_with_lines = draw_lines(copy.deepcopy(opencv_images[3]), lines, (0, 255, 0), thickness=3)\n",
    "\n",
    "# Show the image or save it as you like\n",
    "show_image(img_with_lines)\n"
   ]
  }
 ],
 "metadata": {
  "kernelspec": {
   "display_name": "base",
   "language": "python",
   "name": "python3"
  },
  "language_info": {
   "codemirror_mode": {
    "name": "ipython",
    "version": 3
   },
   "file_extension": ".py",
   "mimetype": "text/x-python",
   "name": "python",
   "nbconvert_exporter": "python",
   "pygments_lexer": "ipython3",
   "version": "3.11.7"
  }
 },
 "nbformat": 4,
 "nbformat_minor": 2
}
